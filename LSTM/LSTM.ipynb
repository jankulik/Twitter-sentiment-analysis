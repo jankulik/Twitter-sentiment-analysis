{
 "cells": [
  {
   "cell_type": "markdown",
   "metadata": {},
   "source": [
    "### Loading Word2Vec Vectors"
   ]
  },
  {
   "cell_type": "markdown",
   "metadata": {},
   "source": [
    "Word2Vec has the following parameters to follow:\n",
    "<br>**size**: The number of dimensions of the embeddings and the default is 100.\n",
    "<br>**window**: The maximum distance between a target word and words around the target word. The default window is 5.\n",
    "<br>**min_count**: The minimum count of words to consider when training the model; words with occurrence less than this count will be ignored. The default for min_count is 5.\n",
    "<br>**workers**: The number of partitions during training and the default workers is 3.\n",
    "<br>**sg**: The training algorithm, either CBOW(0) or skip gram(1). The default training algorithm is CBOW.\n",
    "\n",
    "<br> In our case, skipgram makes for sense"
   ]
  },
  {
   "cell_type": "code",
   "execution_count": 1,
   "metadata": {},
   "outputs": [
    {
     "name": "stdout",
     "output_type": "stream",
     "text": [
      "[[ 0.2126195   0.09919802  0.09328116 ... -0.09409698  0.17036866\n",
      "   0.16593924]\n",
      " [ 0.05242195  0.648013    0.09244718 ...  0.32488975 -0.09047867\n",
      "   0.05598368]\n",
      " [ 0.22919777  0.08127069 -0.27456412 ...  0.21367386 -0.06071062\n",
      "   0.03780193]\n",
      " ...\n",
      " [ 0.4234368   0.55341655 -0.03553935 ... -0.26094872  0.1420558\n",
      "   0.07539213]\n",
      " [ 0.12630396  0.5462421  -0.1951777  ... -0.6091752  -0.2604661\n",
      "   0.8378617 ]\n",
      " [ 0.40905178  0.26061758  0.6039824  ... -0.03293396  0.0371629\n",
      "   0.35710058]]\n",
      "Shape of embedding matrix: (6062, 100)\n"
     ]
    }
   ],
   "source": [
    "from gensim.models import Word2Vec, KeyedVectors\n",
    "reloaded_word_vectors = KeyedVectors.load('vectors.kv')\n",
    "print(reloaded_word_vectors.vectors)\n",
    "embedding_matrix = reloaded_word_vectors.vectors.shape\n",
    "print(\"Shape of embedding matrix:\", embedding_matrix)\n"
   ]
  },
  {
   "cell_type": "markdown",
   "metadata": {},
   "source": [
    "## Training LSTM Model"
   ]
  },
  {
   "cell_type": "code",
   "execution_count": 2,
   "metadata": {},
   "outputs": [],
   "source": [
    "from keras.models import Sequential\n",
    "from keras.layers import Dense, Activation, LSTM\n",
    "from keras.layers import Embedding\n",
    "from keras.utils import np_utils\n",
    "from keras.preprocessing import sequence\n",
    "from keras.preprocessing.text import Tokenizer\n",
    "from datasets import load_dataset, Dataset\n",
    "import pandas as pd\n"
   ]
  },
  {
   "cell_type": "code",
   "execution_count": 3,
   "metadata": {},
   "outputs": [
    {
     "name": "stderr",
     "output_type": "stream",
     "text": [
      "Using custom data configuration default-b7a65762879a719a\n",
      "Reusing dataset csv (C:\\Users\\wisel\\.cache\\huggingface\\datasets\\csv\\default-b7a65762879a719a\\0.0.0\\6b9057d9e23d9d8a2f05b985917a0da84d70c5dae3d22ddd8a3f22fb01c69d9e)\n",
      "Loading cached split indices for dataset at C:\\Users\\wisel\\.cache\\huggingface\\datasets\\csv\\default-b7a65762879a719a\\0.0.0\\6b9057d9e23d9d8a2f05b985917a0da84d70c5dae3d22ddd8a3f22fb01c69d9e\\cache-5dbae5a4200bc6c7.arrow and C:\\Users\\wisel\\.cache\\huggingface\\datasets\\csv\\default-b7a65762879a719a\\0.0.0\\6b9057d9e23d9d8a2f05b985917a0da84d70c5dae3d22ddd8a3f22fb01c69d9e\\cache-367f7d3919bf7913.arrow\n"
     ]
    }
   ],
   "source": [
    "dataset = load_dataset(\n",
    "    'csv', data_files=\"data/cleaned_labelled_tweets.csv\", split='train')\n",
    "dataset = dataset.train_test_split(test_size=0.2, shuffle=True, seed=1)\n"
   ]
  },
  {
   "cell_type": "code",
   "execution_count": 4,
   "metadata": {},
   "outputs": [
    {
     "name": "stderr",
     "output_type": "stream",
     "text": [
      "Parameter 'generator'=Generator(PCG64) of the transform datasets.arrow_dataset.Dataset.train_test_split couldn't be hashed properly, a random hash was used instead. Make sure your transforms and parameters are serializable with pickle or dill for the dataset fingerprinting and caching to work. If you reuse this transform, the caching mechanism will consider it to be different from the previous calls and recompute everything. This warning is only showed once. Subsequent hashing failures won't be showed.\n"
     ]
    },
    {
     "data": {
      "text/plain": [
       "(DatasetDict({\n",
       "     train: Dataset({\n",
       "         features: ['text', 'label'],\n",
       "         num_rows: 3705\n",
       "     })\n",
       "     test: Dataset({\n",
       "         features: ['text', 'label'],\n",
       "         num_rows: 927\n",
       "     })\n",
       " }),\n",
       " Dataset({\n",
       "     features: ['text', 'label'],\n",
       "     num_rows: 1159\n",
       " }))"
      ]
     },
     "execution_count": 4,
     "metadata": {},
     "output_type": "execute_result"
    }
   ],
   "source": [
    "# Load training and test dataset from cleaned and split data\n",
    "train_data = pd.read_csv('data/train_data.csv')\n",
    "test_data = pd.read_csv('data/test_data.csv')\n",
    "# Relabel the sentiment value to [0,1] where 0 = neg and 1 = pos\n",
    "train_data['label'] = train_data['label'].replace(-1, 0)\n",
    "test_data['label'] = test_data['label'].replace(-1, 0)\n",
    "# Transform dataset from pandas to dataset for consistency\n",
    "train_df = Dataset.from_pandas(train_data)\n",
    "test_df = Dataset.from_pandas(test_data)\n",
    "# Split into training and validation dataset\n",
    "trainval_df = train_df.train_test_split(test_size=0.2)\n",
    "trainval_df, test_df\n"
   ]
  },
  {
   "cell_type": "code",
   "execution_count": 5,
   "metadata": {},
   "outputs": [],
   "source": [
    "# Specify hyperparameters\n",
    "vocab_size = embedding_matrix[0]\n",
    "mxlen = 50\n",
    "nb_classes = 2\n",
    "\n",
    "tokenizer = Tokenizer(num_words=vocab_size)\n",
    "tokenizer.fit_on_texts(trainval_df['train']['text'])\n",
    "sequences_train = tokenizer.texts_to_sequences(trainval_df['train']['text'])\n",
    "sequences_test = tokenizer.texts_to_sequences(test_df['text'])\n",
    "sequences_val = tokenizer.texts_to_sequences(trainval_df['test']['text'])\n"
   ]
  },
  {
   "cell_type": "code",
   "execution_count": 6,
   "metadata": {},
   "outputs": [
    {
     "name": "stdout",
     "output_type": "stream",
     "text": [
      "Found 6062 unique tokens.\n",
      "Top few parts of token dict [('@stock', 1), ('@number', 2), ('http', 3), ('@user', 4), ('to', 5)]\n"
     ]
    }
   ],
   "source": [
    "word_index = reloaded_word_vectors.key_to_index\n",
    "for i in word_index:  # to add 1 to the indexes given by Word2Vec as index 0 is reserved for padding\n",
    "    if word_index['@stock'] < 2:\n",
    "        word_index[i] += 1\n",
    "    else:\n",
    "        word_index['@stock'] = 1\n",
    "        break\n",
    "\n",
    "print('Found %s unique tokens.' % len(reloaded_word_vectors.key_to_index))\n",
    "res = [(key, val) for key, val in word_index.items()]\n",
    "print('Top few parts of token dict', res[:5])\n",
    "\n",
    "# Pad vectors to same length\n",
    "x_train = sequence.pad_sequences(sequences_train, maxlen=mxlen)\n",
    "x_test = sequence.pad_sequences(sequences_test, maxlen=mxlen)\n",
    "x_val = sequence.pad_sequences(sequences_val, maxlen=mxlen)\n"
   ]
  },
  {
   "cell_type": "code",
   "execution_count": 7,
   "metadata": {},
   "outputs": [],
   "source": [
    "# Transform sentiment value into categorical classes\n",
    "y_train = np_utils.to_categorical(trainval_df['train']['label'], nb_classes)\n",
    "y_test = np_utils.to_categorical(test_df['label'], nb_classes)\n",
    "y_val = np_utils.to_categorical(trainval_df['test']['label'], nb_classes)\n"
   ]
  },
  {
   "cell_type": "code",
   "execution_count": 8,
   "metadata": {},
   "outputs": [],
   "source": [
    "batch_size = 32\n",
    "nb_epoch = 20\n",
    "\n",
    "embedding_layer = Embedding(reloaded_word_vectors.vectors.shape[0],\n",
    "                            reloaded_word_vectors.vectors.shape[1],\n",
    "                            weights=[reloaded_word_vectors.vectors],\n",
    "                            trainable=False)\n"
   ]
  },
  {
   "cell_type": "code",
   "execution_count": 9,
   "metadata": {},
   "outputs": [
    {
     "name": "stdout",
     "output_type": "stream",
     "text": [
      "Model: \"sequential\"\n",
      "_________________________________________________________________\n",
      "Layer (type)                 Output Shape              Param #   \n",
      "=================================================================\n",
      "embedding (Embedding)        (None, None, 100)         606200    \n",
      "_________________________________________________________________\n",
      "lstm (LSTM)                  (None, 128)               117248    \n",
      "_________________________________________________________________\n",
      "dense (Dense)                (None, 2)                 258       \n",
      "_________________________________________________________________\n",
      "activation (Activation)      (None, 2)                 0         \n",
      "=================================================================\n",
      "Total params: 723,706\n",
      "Trainable params: 117,506\n",
      "Non-trainable params: 606,200\n",
      "_________________________________________________________________\n",
      "INFO:tensorflow:Assets written to: LSTM Model\\assets\n"
     ]
    }
   ],
   "source": [
    "model = Sequential()\n",
    "model.add(embedding_layer)\n",
    "model.add(LSTM(128, recurrent_dropout=0.5, dropout=0.5))\n",
    "model.add(Dense(nb_classes))\n",
    "model.add(Activation('sigmoid'))\n",
    "model.summary()\n",
    "\n",
    "model.compile(optimizer='adam', loss='binary_crossentropy',\n",
    "              metrics=['accuracy'])\n",
    "model.save(\"LSTM Model\")\n"
   ]
  },
  {
   "cell_type": "code",
   "execution_count": 10,
   "metadata": {},
   "outputs": [
    {
     "name": "stdout",
     "output_type": "stream",
     "text": [
      "Epoch 1/20\n",
      "116/116 [==============================] - 13s 91ms/step - loss: 0.6521 - accuracy: 0.6308 - val_loss: 0.6210 - val_accuracy: 0.6710\n",
      "Epoch 2/20\n",
      "116/116 [==============================] - 10s 87ms/step - loss: 0.6275 - accuracy: 0.6543 - val_loss: 0.6136 - val_accuracy: 0.6936\n",
      "Epoch 3/20\n",
      "116/116 [==============================] - 10s 86ms/step - loss: 0.6163 - accuracy: 0.6694 - val_loss: 0.5951 - val_accuracy: 0.7012\n",
      "Epoch 4/20\n",
      "116/116 [==============================] - 10s 88ms/step - loss: 0.6043 - accuracy: 0.6804 - val_loss: 0.5891 - val_accuracy: 0.7163\n",
      "Epoch 5/20\n",
      "116/116 [==============================] - 10s 87ms/step - loss: 0.5929 - accuracy: 0.6815 - val_loss: 0.5775 - val_accuracy: 0.7120\n",
      "Epoch 6/20\n",
      "116/116 [==============================] - 10s 88ms/step - loss: 0.5826 - accuracy: 0.6883 - val_loss: 0.5754 - val_accuracy: 0.6926\n",
      "Epoch 7/20\n",
      "116/116 [==============================] - 10s 89ms/step - loss: 0.5721 - accuracy: 0.7047 - val_loss: 0.5556 - val_accuracy: 0.7109\n",
      "Epoch 8/20\n",
      "116/116 [==============================] - 10s 87ms/step - loss: 0.5570 - accuracy: 0.7142 - val_loss: 0.5620 - val_accuracy: 0.7023\n",
      "Epoch 9/20\n",
      "116/116 [==============================] - 10s 86ms/step - loss: 0.5532 - accuracy: 0.7179 - val_loss: 0.5480 - val_accuracy: 0.7271\n",
      "Epoch 10/20\n",
      "116/116 [==============================] - 10s 88ms/step - loss: 0.5350 - accuracy: 0.7344 - val_loss: 0.5333 - val_accuracy: 0.7411\n",
      "Epoch 11/20\n",
      "116/116 [==============================] - 10s 89ms/step - loss: 0.5359 - accuracy: 0.7306 - val_loss: 0.5232 - val_accuracy: 0.7217\n",
      "Epoch 12/20\n",
      "116/116 [==============================] - 11s 91ms/step - loss: 0.5117 - accuracy: 0.7476 - val_loss: 0.5246 - val_accuracy: 0.7433\n",
      "Epoch 13/20\n",
      "116/116 [==============================] - 11s 94ms/step - loss: 0.4898 - accuracy: 0.7622 - val_loss: 0.5353 - val_accuracy: 0.7379\n",
      "Epoch 14/20\n",
      "116/116 [==============================] - 11s 93ms/step - loss: 0.4806 - accuracy: 0.7714 - val_loss: 0.4942 - val_accuracy: 0.7605\n",
      "Epoch 15/20\n",
      "116/116 [==============================] - 11s 94ms/step - loss: 0.4572 - accuracy: 0.7849 - val_loss: 0.5066 - val_accuracy: 0.7368\n",
      "Epoch 16/20\n",
      "116/116 [==============================] - 11s 92ms/step - loss: 0.4575 - accuracy: 0.7843 - val_loss: 0.5005 - val_accuracy: 0.7605\n",
      "Epoch 17/20\n",
      "116/116 [==============================] - 10s 89ms/step - loss: 0.4398 - accuracy: 0.7908 - val_loss: 0.4876 - val_accuracy: 0.7648\n",
      "Epoch 18/20\n",
      "116/116 [==============================] - 11s 91ms/step - loss: 0.4244 - accuracy: 0.8013 - val_loss: 0.5814 - val_accuracy: 0.7228\n",
      "Epoch 19/20\n",
      "116/116 [==============================] - 13s 111ms/step - loss: 0.4116 - accuracy: 0.8127 - val_loss: 0.5329 - val_accuracy: 0.7497\n",
      "Epoch 20/20\n",
      "116/116 [==============================] - 11s 99ms/step - loss: 0.3901 - accuracy: 0.8265 - val_loss: 0.4984 - val_accuracy: 0.7627\n"
     ]
    }
   ],
   "source": [
    "rnn = model.fit(x_train, y_train, epochs=nb_epoch, batch_size=batch_size,\n",
    "                shuffle=True, validation_data=(x_val, y_val))\n"
   ]
  },
  {
   "cell_type": "code",
   "execution_count": 11,
   "metadata": {},
   "outputs": [
    {
     "name": "stdout",
     "output_type": "stream",
     "text": [
      "29/29 [==============================] - 1s 23ms/step - loss: 0.4984 - accuracy: 0.7627\n",
      "Val Loss: 49.84%\n",
      "Val Accuracy: 76.27%\n",
      "37/37 [==============================] - 1s 14ms/step - loss: 0.5190 - accuracy: 0.7446\n",
      "Test Loss: 51.90%\n",
      "Test Accuracy: 74.46%\n"
     ]
    }
   ],
   "source": [
    "score = model.evaluate(x_val, y_val)\n",
    "print(\"Val Loss: %.2f%%\" % (score[0]*100))\n",
    "print(\"Val Accuracy: %.2f%%\" % (score[1]*100))\n",
    "score_2 = model.evaluate(x_test, y_test)\n",
    "print(\"Test Loss: %.2f%%\" % (score_2[0]*100))\n",
    "print(\"Test Accuracy: %.2f%%\" % (score_2[1]*100))\n"
   ]
  },
  {
   "cell_type": "code",
   "execution_count": 12,
   "metadata": {},
   "outputs": [
    {
     "data": {
      "image/png": "[encoded data removed]",
      "text/plain": [
       "<Figure size 432x288 with 1 Axes>"
      ]
     },
     "metadata": {
      "needs_background": "light"
     },
     "output_type": "display_data"
    },
    {
     "data": {
      "image/png": "[encoded data removed]",
      "text/plain": [
       "<Figure size 576x432 with 1 Axes>"
      ]
     },
     "metadata": {
      "needs_background": "light"
     },
     "output_type": "display_data"
    }
   ],
   "source": [
    "import matplotlib.pylab as plt\n",
    "import numpy as np\n",
    "\n",
    "plt.figure(0)\n",
    "plt.plot(rnn.history['accuracy'], 'r')\n",
    "plt.plot(rnn.history['val_accuracy'], 'g')\n",
    "plt.xticks(np.arange(0, nb_epoch+1, nb_epoch/5))\n",
    "plt.rcParams['figure.figsize'] = (8, 6)\n",
    "plt.xlabel(\"Num of Epochs\")\n",
    "plt.ylabel(\"Accuracy\")\n",
    "# for max length = 10 and 20 epochs\n",
    "plt.title(\"Training vs Validation Accuracy LSTM l=50, epochs=20\")\n",
    "plt.legend(['train', 'validation'])\n",
    "\n",
    "plt.figure(1)\n",
    "plt.plot(rnn.history['loss'], 'r')\n",
    "plt.plot(rnn.history['val_loss'], 'g')\n",
    "plt.xticks(np.arange(0, nb_epoch+1, nb_epoch/5))\n",
    "plt.rcParams['figure.figsize'] = (8, 6)\n",
    "plt.xlabel(\"Num of Epochs\")\n",
    "# for max length = 10 and 20 epochs\n",
    "plt.ylabel(\"Training vs Validation Loss LSTM l=50, epochs=20\")\n",
    "plt.legend(['train', 'validation'])\n",
    "plt.show()\n"
   ]
  },
  {
   "cell_type": "markdown",
   "metadata": {},
   "source": [
    "### Evaluating Model"
   ]
  },
  {
   "cell_type": "code",
   "execution_count": 13,
   "metadata": {},
   "outputs": [
    {
     "data": {
      "text/html": [
       "<div>\n",
       "<style scoped>\n",
       "    .dataframe tbody tr th:only-of-type {\n",
       "        vertical-align: middle;\n",
       "    }\n",
       "\n",
       "    .dataframe tbody tr th {\n",
       "        vertical-align: top;\n",
       "    }\n",
       "\n",
       "    .dataframe thead th {\n",
       "        text-align: right;\n",
       "    }\n",
       "</style>\n",
       "<table border=\"1\" class=\"dataframe\">\n",
       "  <thead>\n",
       "    <tr style=\"text-align: right;\">\n",
       "      <th></th>\n",
       "      <th>text</th>\n",
       "      <th>label</th>\n",
       "      <th>pred</th>\n",
       "    </tr>\n",
       "  </thead>\n",
       "  <tbody>\n",
       "    <tr>\n",
       "      <th>0</th>\n",
       "      <td>green weekly triangle on @stock scaling at @nu...</td>\n",
       "      <td>0</td>\n",
       "      <td>0</td>\n",
       "    </tr>\n",
       "    <tr>\n",
       "      <th>1</th>\n",
       "      <td>ak corrected me @stock largest watch list gain...</td>\n",
       "      <td>1</td>\n",
       "      <td>1</td>\n",
       "    </tr>\n",
       "    <tr>\n",
       "      <th>2</th>\n",
       "      <td>@stock come on give it up</td>\n",
       "      <td>0</td>\n",
       "      <td>1</td>\n",
       "    </tr>\n",
       "    <tr>\n",
       "      <th>3</th>\n",
       "      <td>would be healthy and desirable for to eventual...</td>\n",
       "      <td>1</td>\n",
       "      <td>1</td>\n",
       "    </tr>\n",
       "    <tr>\n",
       "      <th>4</th>\n",
       "      <td>office owners with long term stable leases hop...</td>\n",
       "      <td>1</td>\n",
       "      <td>1</td>\n",
       "    </tr>\n",
       "    <tr>\n",
       "      <th>...</th>\n",
       "      <td>...</td>\n",
       "      <td>...</td>\n",
       "      <td>...</td>\n",
       "    </tr>\n",
       "    <tr>\n",
       "      <th>1154</th>\n",
       "      <td>the senior housing industry was facing financi...</td>\n",
       "      <td>0</td>\n",
       "      <td>0</td>\n",
       "    </tr>\n",
       "    <tr>\n",
       "      <th>1155</th>\n",
       "      <td>@stock if it goes to around @number i ll go short</td>\n",
       "      <td>0</td>\n",
       "      <td>0</td>\n",
       "    </tr>\n",
       "    <tr>\n",
       "      <th>1156</th>\n",
       "      <td>easy look at last @number yrs annual income data</td>\n",
       "      <td>1</td>\n",
       "      <td>1</td>\n",
       "    </tr>\n",
       "    <tr>\n",
       "      <th>1157</th>\n",
       "      <td>market wrap video additions to watch ist inclu...</td>\n",
       "      <td>1</td>\n",
       "      <td>1</td>\n",
       "    </tr>\n",
       "    <tr>\n",
       "      <th>1158</th>\n",
       "      <td>financials continue ripping easy money @stock ...</td>\n",
       "      <td>1</td>\n",
       "      <td>1</td>\n",
       "    </tr>\n",
       "  </tbody>\n",
       "</table>\n",
       "<p>1159 rows × 3 columns</p>\n",
       "</div>"
      ],
      "text/plain": [
       "                                                   text  label  pred\n",
       "0     green weekly triangle on @stock scaling at @nu...      0     0\n",
       "1     ak corrected me @stock largest watch list gain...      1     1\n",
       "2                             @stock come on give it up      0     1\n",
       "3     would be healthy and desirable for to eventual...      1     1\n",
       "4     office owners with long term stable leases hop...      1     1\n",
       "...                                                 ...    ...   ...\n",
       "1154  the senior housing industry was facing financi...      0     0\n",
       "1155  @stock if it goes to around @number i ll go short      0     0\n",
       "1156   easy look at last @number yrs annual income data      1     1\n",
       "1157  market wrap video additions to watch ist inclu...      1     1\n",
       "1158  financials continue ripping easy money @stock ...      1     1\n",
       "\n",
       "[1159 rows x 3 columns]"
      ]
     },
     "execution_count": 13,
     "metadata": {},
     "output_type": "execute_result"
    }
   ],
   "source": [
    "# Check data\n",
    "y_pred = model.predict(x_test)\n",
    "# Convert Y_Test into 1D array\n",
    "yy_true = [np.argmax(i) for i in y_test]\n",
    "yy_scores = [np.argmax(i) for i in y_pred]\n",
    "\n",
    "test_df = test_data\n",
    "test_df['pred'] = yy_scores\n",
    "test_df\n"
   ]
  },
  {
   "cell_type": "code",
   "execution_count": 14,
   "metadata": {},
   "outputs": [
    {
     "name": "stdout",
     "output_type": "stream",
     "text": [
      "              precision    recall  f1-score   support\n",
      "\n",
      "         Neg       0.63      0.60      0.62       396\n",
      "    Positive       0.80      0.82      0.81       763\n",
      "\n",
      "    accuracy                           0.74      1159\n",
      "   macro avg       0.72      0.71      0.71      1159\n",
      "weighted avg       0.74      0.74      0.74      1159\n",
      "\n"
     ]
    }
   ],
   "source": [
    "# Reporting Scores\n",
    "from sklearn.metrics import classification_report, confusion_matrix\n",
    "target_names = ['Neg', 'Positive']\n",
    "print(classification_report(test_df['label'],\n",
    "      test_df['pred'], target_names=target_names))\n"
   ]
  }
 ],
 "metadata": {
  "kernelspec": {
   "display_name": "Python 3.10.6 ('MH4510')",
   "language": "python",
   "name": "python3"
  },
  "language_info": {
   "codemirror_mode": {
    "name": "ipython",
    "version": 3
   },
   "file_extension": ".py",
   "mimetype": "text/x-python",
   "name": "python",
   "nbconvert_exporter": "python",
   "pygments_lexer": "ipython3",
   "version": "3.10.6"
  },
  "orig_nbformat": 4,
  "vscode": {
   "interpreter": {
    "hash": "e7269a099a8719eb2768e6bb8bbc252cb10e8fb84c07599fa84a299a74271d3c"
   }
  }
 },
 "nbformat": 4,
 "nbformat_minor": 2
}
