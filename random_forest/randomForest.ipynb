{
 "cells": [
  {
   "cell_type": "code",
   "execution_count": 1,
   "id": "47918616",
   "metadata": {},
   "outputs": [],
   "source": [
    "from nltk.corpus import stopwords\n",
    "import re\n",
    "from sklearn.ensemble import RandomForestClassifier\n",
    "from sklearn.metrics import accuracy_score, classification_report, confusion_matrix\n",
    "import seaborn as sns\n",
    "import numpy as np  # linear algebra\n",
    "import pandas as pd\n",
    "\n",
    "# for plotting images & adjusting colors\n",
    "import matplotlib.pyplot as plt\n"
   ]
  },
  {
   "cell_type": "code",
   "execution_count": 2,
   "id": "aa4be524",
   "metadata": {},
   "outputs": [
    {
     "name": "stdout",
     "output_type": "stream",
     "text": [
      "                                                Text  Sentiment\n",
      "0  kickers on my watchlist stock tit stock stock ...          1\n",
      "1  user stock movie number return for the stock s...          1\n",
      "2  user i d be afraid to short stock they are loo...          1\n",
      "3                          stock over number number           1\n",
      "4                          stock over number number           1\n"
     ]
    }
   ],
   "source": [
    "# import tweets data\n",
    "tweets = pd.read_csv(\"data/cleaned_labelled_tweets.csv\")\n",
    "print(tweets.head())\n"
   ]
  },
  {
   "cell_type": "code",
   "execution_count": 3,
   "id": "437dfd0c",
   "metadata": {},
   "outputs": [
    {
     "name": "stdout",
     "output_type": "stream",
     "text": [
      "                                                Text  Sentiment\n",
      "0  kickers on my watchlist stock tit stock stock ...          1\n",
      "1  user stock movie number return for the stock s...          1\n",
      "2  user i d be afraid to short stock they are loo...          1\n",
      "3                          stock over number number           1\n",
      "4                          stock over number number           1\n"
     ]
    }
   ],
   "source": [
    "# cleaning the dataset\n",
    "\n",
    "import re\n",
    "\n",
    "\n",
    "def remove_links(Text):\n",
    "    Text = re.sub('http[^\\s]+', '', Text)\n",
    "    digitspattern = r'[0-9]'\n",
    "    # replace all digits in the string with empty string\n",
    "    Text = re.sub(digitspattern, '', Text)\n",
    "    return Text\n",
    "\n",
    "\n",
    "tweets['Text'] = tweets['Text'].apply(remove_links)\n",
    "\n",
    "print(tweets.head())\n"
   ]
  },
  {
   "cell_type": "code",
   "execution_count": 4,
   "id": "24765f73",
   "metadata": {},
   "outputs": [],
   "source": [
    "# important libraries for preprocessing using NLTK\n",
    "import nltk\n",
    "\n",
    "# for importing data and wrangling\n",
    "import pandas as pd\n",
    "import numpy as np\n",
    "\n",
    "# for plotting images & adjusting colors\n",
    "import matplotlib.pyplot as plt\n",
    "import matplotlib as mpl\n",
    "from wordcloud import WordCloud, STOPWORDS, ImageColorGenerator\n",
    "from PIL import Image\n",
    "# most frequent words\n",
    "\n",
    "from nltk.corpus import stopwords\n",
    "# nltk.download('stopwords')\n",
    "stop = set(stopwords.words(\"english\"))\n",
    "\n",
    "corpus = [word for i in tweets[\"Text\"].str.split().values.tolist()\n",
    "          for word in i if (word not in stop)]\n",
    "# print(corpus)\n"
   ]
  },
  {
   "cell_type": "code",
   "execution_count": 5,
   "id": "a61f89f7",
   "metadata": {},
   "outputs": [
    {
     "name": "stdout",
     "output_type": "stream",
     "text": [
      "                    id                                               text  \\\n",
      "0  1019696670777503700  video i was in my office i was minding my own ...   \n",
      "1  1019709091038548000  the price of lumber lb f is down @number since...   \n",
      "2  1019711413798035500           who says the american dream is dead http   \n",
      "3  1019718460287389700  how satellites avoid attacks and space junk wh...   \n",
      "4  1019720723441635300  senate wants emergency alerts to go out throug...   \n",
      "\n",
      "                        timestamp        source symbols      company_names  \\\n",
      "0  Wed Jul 18 21:33:26 +0000 2018  GoldmanSachs      GS  The Goldman Sachs   \n",
      "1  Wed Jul 18 22:22:47 +0000 2018    StockTwits       M             Macy's   \n",
      "2  Wed Jul 18 22:32:01 +0000 2018     TheStreet     AIG           American   \n",
      "3  Wed Jul 18 23:00:01 +0000 2018        Forbes    ORCL             Oracle   \n",
      "4  Wed Jul 18 23:09:00 +0000 2018    TechCrunch    NFLX            Netflix   \n",
      "\n",
      "                                                 url  verified  \n",
      "0  https://twitter.com/i/web/status/1019696670777...      True  \n",
      "1  https://twitter.com/i/web/status/1019709091038...      True  \n",
      "2                            https://buff.ly/2L3kmc4      True  \n",
      "3                     http://on.forbes.com/6013DqDDU      True  \n",
      "4                            https://tcrn.ch/2L8DsgT      True  \n"
     ]
    }
   ],
   "source": [
    "# dataset we train word2vec on\n",
    "data = pd.read_csv(\"/Users/poojagrewal/Downloads/cleaned_financial_tweets.csv\")\n",
    "print(data.head())\n"
   ]
  },
  {
   "cell_type": "code",
   "execution_count": 6,
   "id": "7ab94837",
   "metadata": {},
   "outputs": [
    {
     "name": "stdout",
     "output_type": "stream",
     "text": [
      "KeyedVectors<vector_size=100, 6062 keys>\n"
     ]
    },
    {
     "data": {
      "text/plain": [
       "[('level', 0.5645415782928467),\n",
       " ('ris', 0.5292462706565857),\n",
       " ('trendline', 0.5157818794250488),\n",
       " ('area', 0.5135337710380554),\n",
       " ('@numberish', 0.5056371688842773),\n",
       " ('weve', 0.49981266260147095),\n",
       " ('bounces', 0.497825026512146),\n",
       " ('till', 0.49684518575668335),\n",
       " ('stipend', 0.49448660016059875),\n",
       " ('ibdpartner', 0.48978257179260254)]"
      ]
     },
     "execution_count": 6,
     "metadata": {},
     "output_type": "execute_result"
    }
   ],
   "source": [
    "import pandas as pd\n",
    "from gensim.models import Word2Vec, KeyedVectors\n",
    "data = [row.split(' ') for row in data['text']]\n",
    "model = Word2Vec(data, min_count=3, vector_size=100,\n",
    "                 workers=3, window=5, sg=1, epochs=100)\n",
    "word_vectors = model.wv\n",
    "word_vectors.save('vectors_2.kv')\n",
    "reloaded_word_vectors = KeyedVectors.load('vectors_2.kv')\n",
    "print(reloaded_word_vectors)\n",
    "\n",
    "w1 = \"support\"\n",
    "model.wv.most_similar(positive=w1)\n"
   ]
  },
  {
   "cell_type": "code",
   "execution_count": 7,
   "id": "2f3df513",
   "metadata": {},
   "outputs": [
    {
     "name": "stdout",
     "output_type": "stream",
     "text": [
      "                                                text  label\n",
      "0              @stock breakout watch @number @number      1\n",
      "1  @user i hate to be under @number as average i ...     -1\n",
      "2  nice share @user @stock intraday short explain...     -1\n",
      "3  @stock still looking interesting trading withi...      1\n",
      "4          the ticker has actually stopped on @stock      1\n"
     ]
    }
   ],
   "source": [
    "train_data = pd.read_csv(\"/Users/poojagrewal/Downloads/train_data.csv\")\n",
    "test_data = pd.read_csv(\"/Users/poojagrewal/Downloads/test_data.csv\")\n",
    "\n",
    "print(train_data.head())\n"
   ]
  },
  {
   "cell_type": "code",
   "execution_count": 8,
   "id": "2273a2b0",
   "metadata": {},
   "outputs": [],
   "source": [
    "from datasets import load_dataset, Dataset\n",
    "\n",
    "train_data['label'] = train_data['label'].replace(-1, 0)\n",
    "test_data['label'] = test_data['label'].replace(-1, 0)\n",
    "train_df = Dataset.from_pandas(train_data)\n",
    "test_df = Dataset.from_pandas(test_data)\n",
    "trainval_df = train_df.train_test_split(test_size=0.2)\n",
    "trainval_df, test_df\n",
    "x_train = trainval_df['train'][\"text\"]\n",
    "x_val = trainval_df['test']['text']\n",
    "x_test = test_df[\"text\"]\n",
    "y_train = trainval_df['train'][\"label\"]\n",
    "y_val = trainval_df['test']['text']\n",
    "y_test = test_df[\"label\"]\n"
   ]
  },
  {
   "cell_type": "code",
   "execution_count": 9,
   "id": "83aaff15",
   "metadata": {},
   "outputs": [],
   "source": [
    "def make_feature_vec(words, model, num_features):\n",
    "    \"\"\"\n",
    "    Average the word vectors for a set of words\n",
    "    \"\"\"\n",
    "    feature_vec = np.zeros(\n",
    "        (num_features,), dtype=\"float32\")  # pre-initialize (for speed)\n",
    "    nwords = 0.\n",
    "    index2word_set = set(model.wv.index_to_key)  # words known to the model\n",
    "\n",
    "    for word in words:\n",
    "        if word in index2word_set:\n",
    "            nwords = nwords + 1.\n",
    "            feature_vec = np.add(feature_vec, model.wv[word])\n",
    "\n",
    "    feature_vec = np.divide(feature_vec, nwords)\n",
    "    return feature_vec\n",
    "\n",
    "\n",
    "def get_avg_feature_vecs(reviews, model, num_features):\n",
    "    \"\"\"\n",
    "    Calculate average feature vectors for all reviews\n",
    "    \"\"\"\n",
    "    counter = 0\n",
    "    # pre-initialize (for speed)\n",
    "    review_feature_vecs = np.zeros(\n",
    "        (len(reviews), num_features), dtype='float32')\n",
    "\n",
    "    for review in reviews:\n",
    "        review_feature_vecs[counter] = make_feature_vec(\n",
    "            review, model, num_features)\n",
    "        counter = counter + 1\n",
    "    return review_feature_vecs\n"
   ]
  },
  {
   "cell_type": "code",
   "execution_count": 10,
   "id": "afe0d653",
   "metadata": {},
   "outputs": [],
   "source": [
    "# calculate average feature vectors for training and test sets\n",
    "num_features = 100\n",
    "clean_train_reviews = x_train\n",
    "# for review in x_train:\n",
    "#     clean_train_reviews.append(review_to_wordlist(review, remove_stopwords=True))\n",
    "trainDataVecs = get_avg_feature_vecs(clean_train_reviews, model, num_features)\n"
   ]
  },
  {
   "cell_type": "code",
   "execution_count": 11,
   "id": "cba31a31",
   "metadata": {},
   "outputs": [],
   "source": [
    "clean_test_reviews = x_test\n",
    "# for review in x_test:\n",
    "#     clean_test_reviews.append(review_to_wordlist(review, remove_stopwords=True))\n",
    "testDataVecs = get_avg_feature_vecs(clean_test_reviews, model, num_features)\n"
   ]
  },
  {
   "cell_type": "code",
   "execution_count": 12,
   "id": "a1bdefe8",
   "metadata": {},
   "outputs": [
    {
     "data": {
      "text/plain": [
       "(3705, 100)"
      ]
     },
     "execution_count": 12,
     "metadata": {},
     "output_type": "execute_result"
    }
   ],
   "source": [
    "trainDataVecs2 = np.transpose(trainDataVecs)\n",
    "trainDataVecs.shape\n"
   ]
  },
  {
   "cell_type": "code",
   "execution_count": 13,
   "id": "3941403c",
   "metadata": {},
   "outputs": [
    {
     "name": "stdout",
     "output_type": "stream",
     "text": [
      "Fitting a random forest to labeled training data...\n"
     ]
    }
   ],
   "source": [
    "# Fit a random forest to the training data before hyperparameter tuning)\n",
    "forest = RandomForestClassifier()\n",
    "\n",
    "print(\"Fitting a random forest to labeled training data...\")\n",
    "forest = forest.fit(trainDataVecs, y_train)\n"
   ]
  },
  {
   "cell_type": "code",
   "execution_count": 14,
   "id": "df4d2104",
   "metadata": {},
   "outputs": [],
   "source": [
    "# Now we'll do some hyperparameter tuning using GridSearchCV.\n",
    "def print_results(results):\n",
    "    print('BEST PARAMS: {}\\n'.format(results.best_params_))\n",
    "\n",
    "    means = results.cv_results_['mean_test_score']\n",
    "    stds = results.cv_results_['std_test_score']\n",
    "    for mean, std, params in zip(means, stds, results.cv_results_['params']):\n",
    "        print('{} (+/-{}) for {}'.format(round(mean, 3), round(std * 2, 3), params))\n"
   ]
  },
  {
   "cell_type": "code",
   "execution_count": 15,
   "id": "10ad56d2",
   "metadata": {},
   "outputs": [
    {
     "name": "stdout",
     "output_type": "stream",
     "text": [
      "BEST PARAMS: {'max_depth': 20, 'n_estimators': 100}\n",
      "\n",
      "0.629 (+/-0.002) for {'max_depth': 2, 'n_estimators': 5}\n",
      "0.63 (+/-0.001) for {'max_depth': 2, 'n_estimators': 50}\n",
      "0.63 (+/-0.001) for {'max_depth': 2, 'n_estimators': 100}\n",
      "0.627 (+/-0.047) for {'max_depth': 10, 'n_estimators': 5}\n",
      "0.667 (+/-0.01) for {'max_depth': 10, 'n_estimators': 50}\n",
      "0.666 (+/-0.017) for {'max_depth': 10, 'n_estimators': 100}\n",
      "0.613 (+/-0.026) for {'max_depth': 20, 'n_estimators': 5}\n",
      "0.662 (+/-0.019) for {'max_depth': 20, 'n_estimators': 50}\n",
      "0.671 (+/-0.034) for {'max_depth': 20, 'n_estimators': 100}\n",
      "0.61 (+/-0.024) for {'max_depth': None, 'n_estimators': 5}\n",
      "0.653 (+/-0.047) for {'max_depth': None, 'n_estimators': 50}\n",
      "0.665 (+/-0.021) for {'max_depth': None, 'n_estimators': 100}\n"
     ]
    }
   ],
   "source": [
    "from sklearn.model_selection import GridSearchCV\n",
    "\n",
    "rf = RandomForestClassifier()\n",
    "parameters = {\n",
    "    'n_estimators': [5, 50, 100],\n",
    "    'max_depth': [2, 10, 20, None]\n",
    "}\n",
    "\n",
    "cv = GridSearchCV(rf, parameters)\n",
    "cv.fit(trainDataVecs, y_train)\n",
    "print_results(cv)\n"
   ]
  },
  {
   "cell_type": "code",
   "execution_count": 16,
   "id": "9588f668",
   "metadata": {},
   "outputs": [
    {
     "data": {
      "text/html": [
       "<style>#sk-container-id-1 {color: black;background-color: white;}#sk-container-id-1 pre{padding: 0;}#sk-container-id-1 div.sk-toggleable {background-color: white;}#sk-container-id-1 label.sk-toggleable__label {cursor: pointer;display: block;width: 100%;margin-bottom: 0;padding: 0.3em;box-sizing: border-box;text-align: center;}#sk-container-id-1 label.sk-toggleable__label-arrow:before {content: \"▸\";float: left;margin-right: 0.25em;color: #696969;}#sk-container-id-1 label.sk-toggleable__label-arrow:hover:before {color: black;}#sk-container-id-1 div.sk-estimator:hover label.sk-toggleable__label-arrow:before {color: black;}#sk-container-id-1 div.sk-toggleable__content {max-height: 0;max-width: 0;overflow: hidden;text-align: left;background-color: #f0f8ff;}#sk-container-id-1 div.sk-toggleable__content pre {margin: 0.2em;color: black;border-radius: 0.25em;background-color: #f0f8ff;}#sk-container-id-1 input.sk-toggleable__control:checked~div.sk-toggleable__content {max-height: 200px;max-width: 100%;overflow: auto;}#sk-container-id-1 input.sk-toggleable__control:checked~label.sk-toggleable__label-arrow:before {content: \"▾\";}#sk-container-id-1 div.sk-estimator input.sk-toggleable__control:checked~label.sk-toggleable__label {background-color: #d4ebff;}#sk-container-id-1 div.sk-label input.sk-toggleable__control:checked~label.sk-toggleable__label {background-color: #d4ebff;}#sk-container-id-1 input.sk-hidden--visually {border: 0;clip: rect(1px 1px 1px 1px);clip: rect(1px, 1px, 1px, 1px);height: 1px;margin: -1px;overflow: hidden;padding: 0;position: absolute;width: 1px;}#sk-container-id-1 div.sk-estimator {font-family: monospace;background-color: #f0f8ff;border: 1px dotted black;border-radius: 0.25em;box-sizing: border-box;margin-bottom: 0.5em;}#sk-container-id-1 div.sk-estimator:hover {background-color: #d4ebff;}#sk-container-id-1 div.sk-parallel-item::after {content: \"\";width: 100%;border-bottom: 1px solid gray;flex-grow: 1;}#sk-container-id-1 div.sk-label:hover label.sk-toggleable__label {background-color: #d4ebff;}#sk-container-id-1 div.sk-serial::before {content: \"\";position: absolute;border-left: 1px solid gray;box-sizing: border-box;top: 0;bottom: 0;left: 50%;z-index: 0;}#sk-container-id-1 div.sk-serial {display: flex;flex-direction: column;align-items: center;background-color: white;padding-right: 0.2em;padding-left: 0.2em;position: relative;}#sk-container-id-1 div.sk-item {position: relative;z-index: 1;}#sk-container-id-1 div.sk-parallel {display: flex;align-items: stretch;justify-content: center;background-color: white;position: relative;}#sk-container-id-1 div.sk-item::before, #sk-container-id-1 div.sk-parallel-item::before {content: \"\";position: absolute;border-left: 1px solid gray;box-sizing: border-box;top: 0;bottom: 0;left: 50%;z-index: -1;}#sk-container-id-1 div.sk-parallel-item {display: flex;flex-direction: column;z-index: 1;position: relative;background-color: white;}#sk-container-id-1 div.sk-parallel-item:first-child::after {align-self: flex-end;width: 50%;}#sk-container-id-1 div.sk-parallel-item:last-child::after {align-self: flex-start;width: 50%;}#sk-container-id-1 div.sk-parallel-item:only-child::after {width: 0;}#sk-container-id-1 div.sk-dashed-wrapped {border: 1px dashed gray;margin: 0 0.4em 0.5em 0.4em;box-sizing: border-box;padding-bottom: 0.4em;background-color: white;}#sk-container-id-1 div.sk-label label {font-family: monospace;font-weight: bold;display: inline-block;line-height: 1.2em;}#sk-container-id-1 div.sk-label-container {text-align: center;}#sk-container-id-1 div.sk-container {/* jupyter's `normalize.less` sets `[hidden] { display: none; }` but bootstrap.min.css set `[hidden] { display: none !important; }` so we also need the `!important` here to be able to override the default hidden behavior on the sphinx rendered scikit-learn.org. See: https://github.com/scikit-learn/scikit-learn/issues/21755 */display: inline-block !important;position: relative;}#sk-container-id-1 div.sk-text-repr-fallback {display: none;}</style><div id=\"sk-container-id-1\" class=\"sk-top-container\"><div class=\"sk-text-repr-fallback\"><pre>RandomForestClassifier(max_depth=20)</pre><b>In a Jupyter environment, please rerun this cell to show the HTML representation or trust the notebook. <br />On GitHub, the HTML representation is unable to render, please try loading this page with nbviewer.org.</b></div><div class=\"sk-container\" hidden><div class=\"sk-item\"><div class=\"sk-estimator sk-toggleable\"><input class=\"sk-toggleable__control sk-hidden--visually\" id=\"sk-estimator-id-1\" type=\"checkbox\" checked><label for=\"sk-estimator-id-1\" class=\"sk-toggleable__label sk-toggleable__label-arrow\">RandomForestClassifier</label><div class=\"sk-toggleable__content\"><pre>RandomForestClassifier(max_depth=20)</pre></div></div></div></div></div>"
      ],
      "text/plain": [
       "RandomForestClassifier(max_depth=20)"
      ]
     },
     "execution_count": 16,
     "metadata": {},
     "output_type": "execute_result"
    }
   ],
   "source": [
    "# using the best parameter, we train a new random forest rf2\n",
    "\n",
    "rf2 = RandomForestClassifier(n_estimators=100, max_depth=20)\n",
    "rf2.fit(trainDataVecs, y_train)\n"
   ]
  },
  {
   "cell_type": "code",
   "execution_count": 17,
   "id": "a0415b96",
   "metadata": {},
   "outputs": [],
   "source": [
    "# remove instances in test set that could not be represented as feature vectors\n",
    "nan_indices = list({x for x, y in np.argwhere(np.isnan(testDataVecs))})\n",
    "if len(nan_indices) > 0:\n",
    "    print('Removing {:d} instances from test set.'.format(len(nan_indices)))\n",
    "    testDataVecs = np.delete(testDataVecs, nan_indices, axis=0)\n",
    "    x_test.drop(x_test.iloc[nan_indices, :].index, axis=0, inplace=True)\n",
    "    assert testDataVecs.shape[0] == len(x_test)\n"
   ]
  },
  {
   "cell_type": "code",
   "execution_count": 18,
   "id": "1efd1958",
   "metadata": {},
   "outputs": [
    {
     "name": "stdout",
     "output_type": "stream",
     "text": [
      "Predicting labels for test data..\n"
     ]
    }
   ],
   "source": [
    "print(\"Predicting labels for test data..\")\n",
    "result = forest.predict(testDataVecs)\n"
   ]
  },
  {
   "cell_type": "code",
   "execution_count": 19,
   "id": "4fc4f591",
   "metadata": {},
   "outputs": [
    {
     "name": "stdout",
     "output_type": "stream",
     "text": [
      "Predicting labels for test data..\n"
     ]
    }
   ],
   "source": [
    "print(\"Predicting labels for test data..\")\n",
    "predictions = rf2.predict(testDataVecs)\n"
   ]
  },
  {
   "cell_type": "code",
   "execution_count": 20,
   "id": "c9eefdbe",
   "metadata": {},
   "outputs": [
    {
     "name": "stdout",
     "output_type": "stream",
     "text": [
      "              precision    recall  f1-score   support\n",
      "\n",
      "           0       0.61      0.31      0.41       396\n",
      "           1       0.71      0.90      0.79       763\n",
      "\n",
      "    accuracy                           0.70      1159\n",
      "   macro avg       0.66      0.60      0.60      1159\n",
      "weighted avg       0.68      0.70      0.66      1159\n",
      "\n",
      "0.695\n"
     ]
    }
   ],
   "source": [
    "print(classification_report(y_test, result))\n",
    "accuracy = round(accuracy_score(y_test, result), 3)\n",
    "print(accuracy)\n"
   ]
  },
  {
   "cell_type": "code",
   "execution_count": 21,
   "id": "4bb2d77d",
   "metadata": {},
   "outputs": [
    {
     "name": "stdout",
     "output_type": "stream",
     "text": [
      "              precision    recall  f1-score   support\n",
      "\n",
      "           0       0.64      0.32      0.42       396\n",
      "           1       0.72      0.91      0.80       763\n",
      "\n",
      "    accuracy                           0.70      1159\n",
      "   macro avg       0.68      0.61      0.61      1159\n",
      "weighted avg       0.69      0.70      0.67      1159\n",
      "\n",
      "0.705\n"
     ]
    }
   ],
   "source": [
    "print(classification_report(y_test, predictions))\n",
    "accuracy1 = round(accuracy_score(y_test, predictions), 3)\n",
    "print(accuracy1)\n"
   ]
  },
  {
   "cell_type": "code",
   "execution_count": 42,
   "id": "f616b783",
   "metadata": {},
   "outputs": [
    {
     "data": {
      "image/png": "[encoded data removed]",
      "text/plain": [
       "<Figure size 432x288 with 1 Axes>"
      ]
     },
     "metadata": {
      "needs_background": "light"
     },
     "output_type": "display_data"
    }
   ],
   "source": [
    "from sklearn.metrics import classification_report, confusion_matrix, roc_auc_score, roc_curve\n",
    "probs = forest.predict_proba(testDataVecs)[:, 1]\n",
    "\n",
    "fpr, tpr, _ = roc_curve(y_test, probs)\n",
    "auc = roc_auc_score(y_test, probs)\n",
    "\n",
    "plt.figure(1)\n",
    "plt.plot([0, 1], [0, 1], 'k--')\n",
    "plt.plot(fpr, tpr, label='AUC {:.3f}'.format(auc))\n",
    "plt.xlabel('False positive rate')\n",
    "plt.ylabel('True positive rate')\n",
    "plt.title('ROC curve')\n",
    "plt.legend(loc='best')\n",
    "plt.show()\n"
   ]
  },
  {
   "cell_type": "code",
   "execution_count": null,
   "id": "67e46d9e",
   "metadata": {},
   "outputs": [],
   "source": [
    "sns.heatmap(confusion_matrix(y_test, predictions), annot=True, fmt='.0f')\n"
   ]
  }
 ],
 "metadata": {
  "kernelspec": {
   "display_name": "Python 3.10.6 ('MH4510')",
   "language": "python",
   "name": "python3"
  },
  "language_info": {
   "codemirror_mode": {
    "name": "ipython",
    "version": 3
   },
   "file_extension": ".py",
   "mimetype": "text/x-python",
   "name": "python",
   "nbconvert_exporter": "python",
   "pygments_lexer": "ipython3",
   "version": "3.10.6"
  },
  "vscode": {
   "interpreter": {
    "hash": "e7269a099a8719eb2768e6bb8bbc252cb10e8fb84c07599fa84a299a74271d3c"
   }
  }
 },
 "nbformat": 4,
 "nbformat_minor": 5
}
