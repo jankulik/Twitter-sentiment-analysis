{
 "cells": [
  {
   "cell_type": "code",
   "execution_count": 1,
   "id": "9a1517fa",
   "metadata": {},
   "outputs": [],
   "source": [
    "import pandas as pd\n",
    "import matplotlib.pyplot as plt\n",
    "import numpy as np\n",
    "from sklearn.ensemble import RandomForestClassifier\n",
    "from sklearn.metrics import accuracy_score,classification_report,confusion_matrix\n",
    "import seaborn as sns\n",
    "%matplotlib inline"
   ]
  },
  {
   "cell_type": "code",
   "execution_count": 2,
   "id": "a61f89f7",
   "metadata": {},
   "outputs": [
    {
     "name": "stdout",
     "output_type": "stream",
     "text": [
      "                    id                                               text  \\\n",
      "0  1019696670777503700  video i was in my office i was minding my own ...   \n",
      "1  1019709091038548000  the price of lumber lb f is down @number since...   \n",
      "2  1019711413798035500           who says the american dream is dead http   \n",
      "3  1019718460287389700  how satellites avoid attacks and space junk wh...   \n",
      "4  1019720723441635300  senate wants emergency alerts to go out throug...   \n",
      "\n",
      "                        timestamp        source symbols      company_names  \\\n",
      "0  Wed Jul 18 21:33:26 +0000 2018  GoldmanSachs      GS  The Goldman Sachs   \n",
      "1  Wed Jul 18 22:22:47 +0000 2018    StockTwits       M             Macy's   \n",
      "2  Wed Jul 18 22:32:01 +0000 2018     TheStreet     AIG           American   \n",
      "3  Wed Jul 18 23:00:01 +0000 2018        Forbes    ORCL             Oracle   \n",
      "4  Wed Jul 18 23:09:00 +0000 2018    TechCrunch    NFLX            Netflix   \n",
      "\n",
      "                                                 url  verified  \n",
      "0  https://twitter.com/i/web/status/1019696670777...      True  \n",
      "1  https://twitter.com/i/web/status/1019709091038...      True  \n",
      "2                            https://buff.ly/2L3kmc4      True  \n",
      "3                     http://on.forbes.com/6013DqDDU      True  \n",
      "4                            https://tcrn.ch/2L8DsgT      True  \n"
     ]
    }
   ],
   "source": [
    "# dataset we train word2vec on\n",
    "data = pd.read_csv(\"data/cleaned_financial_tweets.csv\")\n",
    "print(data.head())\n"
   ]
  },
  {
   "cell_type": "code",
   "execution_count": 3,
   "id": "7ab94837",
   "metadata": {},
   "outputs": [
    {
     "data": {
      "text/plain": [
       "[('@numberish', 0.5532045364379883),\n",
       " ('bounces', 0.531642496585846),\n",
       " ('ris', 0.5205349326133728),\n",
       " ('stipend', 0.5196207761764526),\n",
       " ('@stockech', 0.5064327716827393),\n",
       " ('level', 0.5055236220359802),\n",
       " ('flag', 0.49709606170654297),\n",
       " ('symmetry', 0.4909267723560333),\n",
       " ('fallingwedge', 0.48879274725914),\n",
       " ('ibdpartner', 0.484421968460083)]"
      ]
     },
     "execution_count": 3,
     "metadata": {},
     "output_type": "execute_result"
    }
   ],
   "source": [
    "import pandas as pd\n",
    "from gensim.models import Word2Vec, KeyedVectors\n",
    "data = [row.split(' ') for row in data['text']]\n",
    "model = Word2Vec(data, min_count=3, vector_size=100, workers=3, window=5, sg=1, epochs=100)\n",
    "word_vectors = model.wv\n",
    "\n",
    "w1 = \"support\"\n",
    "model.wv.most_similar(positive=w1)"
   ]
  },
  {
   "cell_type": "code",
   "execution_count": 4,
   "id": "2f3df513",
   "metadata": {},
   "outputs": [
    {
     "name": "stdout",
     "output_type": "stream",
     "text": [
      "                                                text  label\n",
      "0              @stock breakout watch @number @number      1\n",
      "1  @user i hate to be under @number as average i ...     -1\n",
      "2  nice share @user @stock intraday short explain...     -1\n",
      "3  @stock still looking interesting trading withi...      1\n",
      "4          the ticker has actually stopped on @stock      1\n"
     ]
    }
   ],
   "source": [
    "train_data = pd.read_csv(\"data/train_data.csv\")\n",
    "test_data = pd.read_csv(\"data/test_data.csv\")\n",
    "\n",
    "print(train_data.head())"
   ]
  },
  {
   "cell_type": "code",
   "execution_count": 5,
   "id": "2273a2b0",
   "metadata": {},
   "outputs": [
    {
     "name": "stderr",
     "output_type": "stream",
     "text": [
      "Parameter 'generator'=Generator(PCG64) of the transform datasets.arrow_dataset.Dataset.train_test_split couldn't be hashed properly, a random hash was used instead. Make sure your transforms and parameters are serializable with pickle or dill for the dataset fingerprinting and caching to work. If you reuse this transform, the caching mechanism will consider it to be different from the previous calls and recompute everything. This warning is only showed once. Subsequent hashing failures won't be showed.\n"
     ]
    }
   ],
   "source": [
    "from datasets import load_dataset, Dataset\n",
    "\n",
    "train_data['label'] = train_data['label'].replace(-1,0)\n",
    "test_data['label'] = test_data['label'].replace(-1,0)\n",
    "train_df = Dataset.from_pandas(train_data)\n",
    "test_df = Dataset.from_pandas(test_data)\n",
    "trainval_df = train_df.train_test_split(test_size=0.2)\n",
    "trainval_df, test_df\n",
    "x_train = trainval_df['train'][\"text\"]\n",
    "x_val = trainval_df['test']['text']\n",
    "x_test = test_df[\"text\"]\n",
    "y_train = trainval_df['train'][\"label\"]\n",
    "y_val = trainval_df['test']['text']\n",
    "y_test = test_df[\"label\"]"
   ]
  },
  {
   "cell_type": "code",
   "execution_count": 6,
   "id": "83aaff15",
   "metadata": {},
   "outputs": [],
   "source": [
    "def make_feature_vec(words, model, num_features):\n",
    "    \"\"\"\n",
    "    Average the word vectors for a set of words\n",
    "    \"\"\"\n",
    "    feature_vec = np.zeros((num_features,),dtype=\"float32\")  # pre-initialize (for speed)\n",
    "    nwords = 0.\n",
    "    index2word_set = set(model.wv.index_to_key)  # words known to the model\n",
    "\n",
    "    for word in words:\n",
    "        if word in index2word_set: \n",
    "            nwords = nwords + 1.\n",
    "            feature_vec = np.add(feature_vec,model.wv[word])\n",
    "    \n",
    "    feature_vec = np.divide(feature_vec, nwords)\n",
    "    return feature_vec\n",
    "\n",
    "\n",
    "def get_avg_feature_vecs(reviews, model, num_features):\n",
    "    \"\"\"\n",
    "    Calculate average feature vectors for all reviews\n",
    "    \"\"\"\n",
    "    counter = 0\n",
    "    review_feature_vecs = np.zeros((len(reviews),num_features), dtype='float32')  # pre-initialize (for speed)\n",
    "    \n",
    "    for review in reviews:\n",
    "        review_feature_vecs[counter] = make_feature_vec(review, model, num_features)\n",
    "        counter = counter + 1\n",
    "    return review_feature_vecs"
   ]
  },
  {
   "cell_type": "code",
   "execution_count": 7,
   "id": "afe0d653",
   "metadata": {},
   "outputs": [],
   "source": [
    "# calculate average feature vectors for training and test sets\n",
    "num_features = 100\n",
    "clean_train_reviews = x_train\n",
    "# for review in x_train:\n",
    "#     clean_train_reviews.append(review_to_wordlist(review, remove_stopwords=True))\n",
    "trainDataVecs = get_avg_feature_vecs(clean_train_reviews, model, num_features)"
   ]
  },
  {
   "cell_type": "code",
   "execution_count": 8,
   "id": "cba31a31",
   "metadata": {},
   "outputs": [],
   "source": [
    "clean_test_reviews = x_test\n",
    "# for review in x_test:\n",
    "#     clean_test_reviews.append(review_to_wordlist(review, remove_stopwords=True))\n",
    "testDataVecs = get_avg_feature_vecs(clean_test_reviews, model, num_features)"
   ]
  },
  {
   "cell_type": "code",
   "execution_count": 9,
   "id": "a1bdefe8",
   "metadata": {},
   "outputs": [
    {
     "data": {
      "text/plain": [
       "(3705, 100)"
      ]
     },
     "execution_count": 9,
     "metadata": {},
     "output_type": "execute_result"
    }
   ],
   "source": [
    "trainDataVecs2 = np.transpose(trainDataVecs)\n",
    "trainDataVecs.shape"
   ]
  },
  {
   "cell_type": "code",
   "execution_count": 10,
   "id": "3941403c",
   "metadata": {},
   "outputs": [
    {
     "name": "stdout",
     "output_type": "stream",
     "text": [
      "Fitting a random forest to labeled training data...\n"
     ]
    }
   ],
   "source": [
    "# Fit a random forest to the training data before hyperparameter tuning)\n",
    "forest = RandomForestClassifier()\n",
    "\n",
    "print(\"Fitting a random forest to labeled training data...\")\n",
    "forest = forest.fit(trainDataVecs, y_train)"
   ]
  },
  {
   "cell_type": "code",
   "execution_count": 11,
   "id": "df4d2104",
   "metadata": {},
   "outputs": [],
   "source": [
    "#Now we'll do some hyperparameter tuning using GridSearchCV.\n",
    "def print_results(results):\n",
    "    print('BEST PARAMS: {}\\n'.format(results.best_params_))\n",
    "\n",
    "    means = results.cv_results_['mean_test_score']\n",
    "    stds = results.cv_results_['std_test_score']\n",
    "    for mean, std, params in zip(means, stds, results.cv_results_['params']):\n",
    "        print('{} (+/-{}) for {}'.format(round(mean, 3), round(std * 2, 3), params))"
   ]
  },
  {
   "cell_type": "code",
   "execution_count": 12,
   "id": "10ad56d2",
   "metadata": {},
   "outputs": [
    {
     "name": "stdout",
     "output_type": "stream",
     "text": [
      "BEST PARAMS: {'max_depth': 10, 'n_estimators': 100}\n",
      "\n",
      "0.632 (+/-0.003) for {'max_depth': 2, 'n_estimators': 5}\n",
      "0.632 (+/-0.001) for {'max_depth': 2, 'n_estimators': 50}\n",
      "0.632 (+/-0.001) for {'max_depth': 2, 'n_estimators': 100}\n",
      "0.631 (+/-0.031) for {'max_depth': 10, 'n_estimators': 5}\n",
      "0.668 (+/-0.018) for {'max_depth': 10, 'n_estimators': 50}\n",
      "0.673 (+/-0.023) for {'max_depth': 10, 'n_estimators': 100}\n",
      "0.627 (+/-0.036) for {'max_depth': 20, 'n_estimators': 5}\n",
      "0.66 (+/-0.016) for {'max_depth': 20, 'n_estimators': 50}\n",
      "0.67 (+/-0.016) for {'max_depth': 20, 'n_estimators': 100}\n",
      "0.615 (+/-0.041) for {'max_depth': None, 'n_estimators': 5}\n",
      "0.655 (+/-0.03) for {'max_depth': None, 'n_estimators': 50}\n",
      "0.666 (+/-0.018) for {'max_depth': None, 'n_estimators': 100}\n"
     ]
    }
   ],
   "source": [
    "from sklearn.model_selection import GridSearchCV\n",
    "\n",
    "rf = RandomForestClassifier()\n",
    "parameters = {\n",
    "    'n_estimators': [5,50,100],\n",
    "    'max_depth': [2,10,20,None]\n",
    "}\n",
    "\n",
    "cv = GridSearchCV(rf,parameters)\n",
    "cv.fit(trainDataVecs,y_train)\n",
    "print_results(cv)"
   ]
  },
  {
   "cell_type": "code",
   "execution_count": 13,
   "id": "9588f668",
   "metadata": {},
   "outputs": [
    {
     "data": {
      "text/plain": [
       "RandomForestClassifier(max_depth=20)"
      ]
     },
     "execution_count": 13,
     "metadata": {},
     "output_type": "execute_result"
    }
   ],
   "source": [
    "#using the best parameter, we train a new random forest rf2 \n",
    "\n",
    "rf2 = RandomForestClassifier(n_estimators = 100, max_depth = 20)\n",
    "rf2.fit(trainDataVecs, y_train)"
   ]
  },
  {
   "cell_type": "code",
   "execution_count": 14,
   "id": "a0415b96",
   "metadata": {},
   "outputs": [],
   "source": [
    "# remove instances in test set that could not be represented as feature vectors\n",
    "nan_indices = list({x for x,y in np.argwhere(np.isnan(testDataVecs))})\n",
    "if len(nan_indices) > 0:\n",
    "    print('Removing {:d} instances from test set.'.format(len(nan_indices)))\n",
    "    testDataVecs = np.delete(testDataVecs, nan_indices, axis=0)\n",
    "    x_test.drop(x_test.iloc[nan_indices, :].index, axis=0, inplace=True)\n",
    "    assert testDataVecs.shape[0] == len(x_test)"
   ]
  },
  {
   "cell_type": "code",
   "execution_count": 15,
   "id": "1efd1958",
   "metadata": {},
   "outputs": [
    {
     "name": "stdout",
     "output_type": "stream",
     "text": [
      "Predicting labels for test data..\n"
     ]
    }
   ],
   "source": [
    "print(\"Predicting labels for test data..\")\n",
    "result = forest.predict(testDataVecs)"
   ]
  },
  {
   "cell_type": "code",
   "execution_count": 16,
   "id": "4fc4f591",
   "metadata": {},
   "outputs": [
    {
     "name": "stdout",
     "output_type": "stream",
     "text": [
      "Predicting labels for test data..\n"
     ]
    }
   ],
   "source": [
    "print(\"Predicting labels for test data..\")\n",
    "predictions = rf2.predict(testDataVecs)"
   ]
  },
  {
   "cell_type": "code",
   "execution_count": 17,
   "id": "c9eefdbe",
   "metadata": {},
   "outputs": [
    {
     "name": "stdout",
     "output_type": "stream",
     "text": [
      "              precision    recall  f1-score   support\n",
      "\n",
      "           0       0.61      0.32      0.42       396\n",
      "           1       0.72      0.90      0.80       763\n",
      "\n",
      "    accuracy                           0.70      1159\n",
      "   macro avg       0.66      0.61      0.61      1159\n",
      "weighted avg       0.68      0.70      0.67      1159\n",
      "\n",
      "0.698\n"
     ]
    }
   ],
   "source": [
    "print(classification_report(y_test, result))\n",
    "accuracy = round(accuracy_score(y_test, result),3)\n",
    "print(accuracy)"
   ]
  },
  {
   "cell_type": "code",
   "execution_count": 18,
   "id": "4bb2d77d",
   "metadata": {},
   "outputs": [
    {
     "name": "stdout",
     "output_type": "stream",
     "text": [
      "              precision    recall  f1-score   support\n",
      "\n",
      "           0       0.60      0.28      0.38       396\n",
      "           1       0.71      0.90      0.79       763\n",
      "\n",
      "    accuracy                           0.69      1159\n",
      "   macro avg       0.65      0.59      0.59      1159\n",
      "weighted avg       0.67      0.69      0.65      1159\n",
      "\n",
      "0.69\n"
     ]
    }
   ],
   "source": [
    "print(classification_report(y_test, predictions))\n",
    "accuracy1 = round(accuracy_score(y_test, predictions), 3)\n",
    "print(accuracy1)"
   ]
  },
  {
   "cell_type": "code",
   "execution_count": 19,
   "id": "f616b783",
   "metadata": {},
   "outputs": [
    {
     "data": {
      "image/png": "[encoded data removed]",
      "text/plain": [
       "<Figure size 432x288 with 1 Axes>"
      ]
     },
     "metadata": {
      "needs_background": "light"
     },
     "output_type": "display_data"
    }
   ],
   "source": [
    "from sklearn.metrics import classification_report, confusion_matrix, roc_auc_score, roc_curve\n",
    "probs = forest.predict_proba(testDataVecs)[:, 1]\n",
    "\n",
    "fpr, tpr, _ = roc_curve(y_test, probs)\n",
    "auc = roc_auc_score(y_test, probs)\n",
    "\n",
    "plt.figure(1)\n",
    "plt.plot([0, 1], [0, 1], 'k--')\n",
    "plt.plot(fpr, tpr, label='AUC {:.3f}'.format(auc))\n",
    "plt.xlabel('False positive rate')\n",
    "plt.ylabel('True positive rate')\n",
    "plt.title('ROC curve')\n",
    "plt.legend(loc='best')\n",
    "plt.show()"
   ]
  },
  {
   "cell_type": "code",
   "execution_count": 20,
   "id": "67e46d9e",
   "metadata": {},
   "outputs": [
    {
     "data": {
      "text/plain": [
       "<AxesSubplot:>"
      ]
     },
     "execution_count": 20,
     "metadata": {},
     "output_type": "execute_result"
    },
    {
     "data": {
      "image/png": "[encoded data removed]",
      "text/plain": [
       "<Figure size 432x288 with 2 Axes>"
      ]
     },
     "metadata": {
      "needs_background": "light"
     },
     "output_type": "display_data"
    }
   ],
   "source": [
    "sns.heatmap(confusion_matrix(y_test,predictions),annot=True,fmt='.0f')"
   ]
  }
 ],
 "metadata": {
  "kernelspec": {
   "display_name": "Python 3.10.6 ('MH4510')",
   "language": "python",
   "name": "python3"
  },
  "language_info": {
   "codemirror_mode": {
    "name": "ipython",
    "version": 3
   },
   "file_extension": ".py",
   "mimetype": "text/x-python",
   "name": "python",
   "nbconvert_exporter": "python",
   "pygments_lexer": "ipython3",
   "version": "3.10.6"
  },
  "vscode": {
   "interpreter": {
    "hash": "e7269a099a8719eb2768e6bb8bbc252cb10e8fb84c07599fa84a299a74271d3c"
   }
  }
 },
 "nbformat": 4,
 "nbformat_minor": 5
}
